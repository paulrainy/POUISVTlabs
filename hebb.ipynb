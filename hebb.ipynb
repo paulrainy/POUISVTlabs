{
 "cells": [
  {
   "cell_type": "code",
   "execution_count": 5,
   "metadata": {},
   "outputs": [
    {
     "name": "stdout",
     "output_type": "stream",
     "text": [
      "Обучение [1,2],[4,5]; Результат: [[2.44895751]\n",
      " [5.57583865]\n",
      " [9.81312348]\n",
      " [9.9337803 ]]\n",
      "\n",
      "Тест [[0.7 0.8]] ; Результат: [[9.42800169]]\n"
     ]
    }
   ],
   "source": [
    "import numpy as np\n",
    "\n",
    "class NeuralNetwork:\n",
    "    def __init__(self):\n",
    "        np.random.seed(100)\n",
    "        self.inputData = np.array([[1,2],[3,4],[9,10],[11,12]])  # Обучающий набор входных данных\n",
    "        self.outputData = np.array([[3, 5, 11, 13]]).T  # Обучающий набор выходных данных\n",
    "        self.inputData = self.inputData / 10  # Нормализация входных данных\n",
    "        self.outputData = self.outputData / 10  # Нормализация выходных данных\n",
    "        np.random.seed(1)\n",
    "        self.hiddenSynapses = 2 * np.random.random((2,3)) - 1  # Инициализация весов скрытого слоя\n",
    "        self.outputSynapses = 2 * np.random.random((3,1)) - 1  # Инициализация весов выходного слоя\n",
    "\n",
    "    def train(self):\n",
    "        # Обучение сети - цикл из 10000 повторений\n",
    "        for j in range(10000):\n",
    "            layer0 = self.inputData  # Входной слой\n",
    "            layer1 = 1 / (1 + np.exp(-(layer0.dot(self.hiddenSynapses))))  # Скрытый слой\n",
    "            layer2 = 1 / (1 + np.exp(-(layer1.dot(self.outputSynapses))))  # Выходной слой\n",
    "            layer2Delta = (self.outputData - layer2) * (layer2 * (1 - layer2))  # Вычисление ошибки выходного слоя\n",
    "            layer1Delta = layer2Delta.dot(self.outputSynapses.T) * (layer1 * (1 - layer1))  # Вычисление ошибки скрытого слоя\n",
    "            self.outputSynapses += layer1.T.dot(layer2Delta)  # Корректировка весов выходного слоя\n",
    "            self.hiddenSynapses += layer0.T.dot(layer1Delta)  # Корректировка весов скрытого слоя\n",
    "        print(\"Обучение [1,2],[4,5]; Результат:\", layer2 * 10)  # Печать результатов обучения\n",
    "\n",
    "    def test(self, inputData):\n",
    "        # Тестирование обученной сети\n",
    "        inputData = np.array(inputData)\n",
    "        inputData = inputData / 10  # Нормализация входных данных\n",
    "        layer0 = inputData  # Входной слой\n",
    "        layer1 = 1 / (1 + np.exp(-(layer0.dot(self.hiddenSynapses))))  # Скрытый слой\n",
    "        layer2 = 1 / (1 + np.exp(-(layer1.dot(self.outputSynapses))))  # Выходной слой\n",
    "        print(\"\\nТест\", inputData, \"; Результат:\", layer2 * 10)  # Печать результатов тестирования\n",
    "\n",
    "# Создание и обучение нейронной сети\n",
    "nn = NeuralNetwork()\n",
    "nn.train()\n",
    "\n",
    "# Тестирование нейронной сети\n",
    "nn.test([[7,8]])"
   ]
  }
 ],
 "metadata": {
  "kernelspec": {
   "display_name": "Python 3 (ipykernel)",
   "language": "python",
   "name": "python3"
  },
  "language_info": {
   "codemirror_mode": {
    "name": "ipython",
    "version": 3
   },
   "file_extension": ".py",
   "mimetype": "text/x-python",
   "name": "python",
   "nbconvert_exporter": "python",
   "pygments_lexer": "ipython3",
   "version": "3.12.1"
  }
 },
 "nbformat": 4,
 "nbformat_minor": 4
}
