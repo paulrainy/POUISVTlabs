{
 "cells": [
  {
   "cell_type": "code",
   "execution_count": 1,
   "metadata": {},
   "outputs": [
    {
     "name": "stdout",
     "output_type": "stream",
     "text": [
      "Error:0.4964100319027255\n",
      "Error:0.008584525653247157\n",
      "Error:0.005789459862507806\n",
      "Error:0.004629176776769983\n",
      "Error:0.003958765280273646\n",
      "Error:0.0035101225678616736\n"
     ]
    }
   ],
   "source": [
    "import numpy as np\n",
    "\n",
    "class NeuralNetwork:\n",
    "    def __init__(self):\n",
    "        np.random.seed(1)\n",
    "        # Случайно инициализируем веса, в среднем - 0\n",
    "        self.syn0 = 2 * np.random.random((3, 4)) - 1\n",
    "        self.syn1 = 2 * np.random.random((4, 1)) - 1\n",
    "\n",
    "    # Функция активации (сигмоид) и ее производная\n",
    "    def nonLin(self, x, deriv=False):\n",
    "        if deriv == True:\n",
    "            return x * (1 - x)\n",
    "        return 1 / (1 + np.exp(-x))\n",
    "\n",
    "    def train(self, X, y):\n",
    "        for j in range(60000):\n",
    "            # Проходим вперёд по слоям 0, 1 и 2\n",
    "            l0 = X\n",
    "            l1 = self.nonLin(np.dot(l0, self.syn0))\n",
    "            l2 = self.nonLin(np.dot(l1, self.syn1))\n",
    "\n",
    "            # Как сильно мы ошиблись относительно нужной величины?\n",
    "            l2Error = y - l2\n",
    "\n",
    "            if j % 10000 == 0:\n",
    "                print(\"Error:\" + str(np.mean(np.abs(l2Error))))\n",
    "\n",
    "            # В какую сторону нужно двигаться?\n",
    "            # Если мы были уверены в предсказании, то сильно менять его не надо\n",
    "            l2Delta = l2Error * self.nonLin(l2, deriv=True)\n",
    "\n",
    "            # Как сильно значения l1 влияют на ошибки в l2?\n",
    "            l1Error = l2Delta.dot(self.syn1.T)\n",
    "\n",
    "            # В каком направлении нужно двигаться, чтобы прийти к l1?\n",
    "            # Если мы были уверены в предсказании, то сильно менять его не надо\n",
    "            l1Delta = l1Error * self.nonLin(l1, deriv=True)\n",
    "\n",
    "            self.syn1 += l1.T.dot(l2Delta)\n",
    "            self.syn0 += l0.T.dot(l1Delta)\n",
    "\n",
    "# Обучающий набор данных\n",
    "X = np.array([[0, 0, 1], [0, 1, 1], [1, 0, 1], [1, 1, 1]])\n",
    "y = np.array([[0], [1], [1], [0]])\n",
    "\n",
    "# Создание и обучение нейронной сети\n",
    "nn = NeuralNetwork()\n",
    "nn.train(X, y)"
   ]
  }
 ],
 "metadata": {
  "kernelspec": {
   "display_name": "Python 3 (ipykernel)",
   "language": "python",
   "name": "python3"
  },
  "language_info": {
   "codemirror_mode": {
    "name": "ipython",
    "version": 3
   },
   "file_extension": ".py",
   "mimetype": "text/x-python",
   "name": "python",
   "nbconvert_exporter": "python",
   "pygments_lexer": "ipython3",
   "version": "3.12.1"
  }
 },
 "nbformat": 4,
 "nbformat_minor": 4
}
