{
 "cells": [
  {
   "cell_type": "code",
   "execution_count": 4,
   "metadata": {},
   "outputs": [
    {
     "name": "stdout",
     "output_type": "stream",
     "text": [
      "Обучение [1,2],[4,5]; Результат: [[2.93877587]\n",
      " [5.42056005]\n",
      " [0.06841678]\n",
      " [0.01385216]]\n",
      "\n",
      "Тест [[0.7 0.8]] ; Результат: [[0.33025717]]\n"
     ]
    }
   ],
   "source": [
    "import numpy as np\n",
    "\n",
    "class NeuralNetwork:\n",
    "    def __init__(self):\n",
    "        np.random.seed(100)\n",
    "        # Обучающий набор входных и выходных данных\n",
    "        self.inputData = np.array([[1,2],[3,4],[9,10],[11,12]])\n",
    "        self.outputData = np.array([[3, 5, 11, 13]]).T   # T - транспонирование матрицы\n",
    "        # Нормализация данных (чтобы были меньше 1)\n",
    "        self.inputData = self.inputData / 10\n",
    "        self.outputData = self.outputData / 10\n",
    "        # Инициализация случайных весов (от -1 до +1) синапсов\n",
    "        np.random.seed(1)\n",
    "        self.hiddenSynapses = 2 * np.random.random((2,3)) - 1  # 2*3 - скрытый слой\n",
    "        self.outputSynapses = 2 * np.random.random((3,1)) - 1  # 3*1 - выходной слой\n",
    "\n",
    "    def train(self):\n",
    "        # Обучение сети - цикл из 10000 повторений\n",
    "        for j in range(10000):\n",
    "            # Входной слой (2 входа)\n",
    "            layer0 = self.inputData\n",
    "            # Скрытый слой (3 скрытых нейрона)\n",
    "            layer1 = 1 / (1 + np.exp(-(layer0.dot(self.hiddenSynapses))))\n",
    "            # Выходной слой (1 выходной нейрон)\n",
    "            layer2 = layer1.dot(self.outputSynapses)\n",
    "            # Обновляем веса согласно правилу Хебба\n",
    "            self.outputSynapses += layer1.T.dot(self.outputData - layer2)\n",
    "            self.hiddenSynapses += layer0.T.dot(layer1 * (self.outputData - layer2))\n",
    "        # Печать сигналов на выходе после последнего цикла обучения\n",
    "        # Сигналы на выходе умножаем на коэффициент нормализации (10)\n",
    "        print(\"Обучение [1,2],[4,5]; Результат:\", layer2 * 10)\n",
    "\n",
    "    def test(self, inputData):\n",
    "        # Тестируем уже обученную сеть\n",
    "        inputData = np.array(inputData)\n",
    "        inputData = inputData / 10  # Нормализация входных данных\n",
    "        layer0 = inputData  # Входной слой\n",
    "        layer1 = 1 / (1 + np.exp(-(layer0.dot(self.hiddenSynapses))))  # Скрытый слой\n",
    "        layer2 = layer1.dot(self.outputSynapses)  # Выходной слой\n",
    "        print(\"\\nТест\", inputData, \"; Результат:\", layer2 * 10)  # Печать результатов тестирования\n",
    "\n",
    "# Создание и обучение нейронной сети\n",
    "nn = NeuralNetwork()\n",
    "nn.train()\n",
    "\n",
    "# Тестирование нейронной сети\n",
    "nn.test([[7,8]])"
   ]
  }
 ],
 "metadata": {
  "kernelspec": {
   "display_name": "Python 3 (ipykernel)",
   "language": "python",
   "name": "python3"
  },
  "language_info": {
   "codemirror_mode": {
    "name": "ipython",
    "version": 3
   },
   "file_extension": ".py",
   "mimetype": "text/x-python",
   "name": "python",
   "nbconvert_exporter": "python",
   "pygments_lexer": "ipython3",
   "version": "3.12.1"
  }
 },
 "nbformat": 4,
 "nbformat_minor": 4
}
